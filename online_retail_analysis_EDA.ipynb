{
 "cells": [
  {
   "cell_type": "code",
   "execution_count": 1,
   "id": "5e0a7d26-5b6d-4e8f-b151-385df21bd71f",
   "metadata": {},
   "outputs": [
    {
     "name": "stderr",
     "output_type": "stream",
     "text": [
      "Installing packages into 'C:/Users/yasir/AppData/Local/R/win-library/4.4'\n",
      "(as 'lib' is unspecified)\n",
      "\n"
     ]
    },
    {
     "name": "stdout",
     "output_type": "stream",
     "text": [
      "package 'tidyverse' successfully unpacked and MD5 sums checked\n",
      "package 'janitor' successfully unpacked and MD5 sums checked\n",
      "package 'lubridate' successfully unpacked and MD5 sums checked\n",
      "package 'ggplot2' successfully unpacked and MD5 sums checked\n",
      "package 'scales' successfully unpacked and MD5 sums checked\n",
      "\n",
      "The downloaded binary packages are in\n",
      "\tC:\\Users\\yasir\\AppData\\Local\\Temp\\Rtmpyi9yhW\\downloaded_packages\n"
     ]
    },
    {
     "name": "stderr",
     "output_type": "stream",
     "text": [
      "── \u001b[1mAttaching core tidyverse packages\u001b[22m ──────────────────────────────────────────────────────────────── tidyverse 2.0.0 ──\n",
      "\u001b[32m✔\u001b[39m \u001b[34mdplyr    \u001b[39m 1.1.4     \u001b[32m✔\u001b[39m \u001b[34mreadr    \u001b[39m 2.1.5\n",
      "\u001b[32m✔\u001b[39m \u001b[34mforcats  \u001b[39m 1.0.0     \u001b[32m✔\u001b[39m \u001b[34mstringr  \u001b[39m 1.5.1\n",
      "\u001b[32m✔\u001b[39m \u001b[34mggplot2  \u001b[39m 3.5.1     \u001b[32m✔\u001b[39m \u001b[34mtibble   \u001b[39m 3.2.1\n",
      "\u001b[32m✔\u001b[39m \u001b[34mlubridate\u001b[39m 1.9.4     \u001b[32m✔\u001b[39m \u001b[34mtidyr    \u001b[39m 1.3.1\n",
      "\u001b[32m✔\u001b[39m \u001b[34mpurrr    \u001b[39m 1.0.2     \n",
      "── \u001b[1mConflicts\u001b[22m ────────────────────────────────────────────────────────────────────────────────── tidyverse_conflicts() ──\n",
      "\u001b[31m✖\u001b[39m \u001b[34mdplyr\u001b[39m::\u001b[32mfilter()\u001b[39m masks \u001b[34mstats\u001b[39m::filter()\n",
      "\u001b[31m✖\u001b[39m \u001b[34mdplyr\u001b[39m::\u001b[32mlag()\u001b[39m    masks \u001b[34mstats\u001b[39m::lag()\n",
      "\u001b[36mℹ\u001b[39m Use the conflicted package (\u001b[3m\u001b[34m<http://conflicted.r-lib.org/>\u001b[39m\u001b[23m) to force all conflicts to become errors\n",
      "\n",
      "Attaching package: 'janitor'\n",
      "\n",
      "\n",
      "The following objects are masked from 'package:stats':\n",
      "\n",
      "    chisq.test, fisher.test\n",
      "\n",
      "\n",
      "\n",
      "Attaching package: 'scales'\n",
      "\n",
      "\n",
      "The following object is masked from 'package:purrr':\n",
      "\n",
      "    discard\n",
      "\n",
      "\n",
      "The following object is masked from 'package:readr':\n",
      "\n",
      "    col_factor\n",
      "\n",
      "\n"
     ]
    }
   ],
   "source": [
    "# Install required packages (if not already installed)\n",
    "install.packages(c(\"tidyverse\", \"janitor\", \"lubridate\", \"ggplot2\", \"scales\"))\n",
    "\n",
    "# Load libraries\n",
    "library(tidyverse)\n",
    "library(janitor)\n",
    "library(lubridate)\n",
    "library(ggplot2)\n",
    "library(scales)\n"
   ]
  },
  {
   "cell_type": "code",
   "execution_count": 3,
   "id": "640c517f-e98a-4dc8-8fd5-a1b9776f0210",
   "metadata": {},
   "outputs": [],
   "source": [
    "library(readxl)"
   ]
  },
  {
   "cell_type": "code",
   "execution_count": 4,
   "id": "a54f1fa0-b76f-4b28-a4cd-e49eecb9bf7c",
   "metadata": {},
   "outputs": [
    {
     "data": {
      "text/html": [
       "<table class=\"dataframe\">\n",
       "<caption>A tibble: 6 × 8</caption>\n",
       "<thead>\n",
       "\t<tr><th scope=col>InvoiceNo</th><th scope=col>StockCode</th><th scope=col>Description</th><th scope=col>Quantity</th><th scope=col>InvoiceDate</th><th scope=col>UnitPrice</th><th scope=col>CustomerID</th><th scope=col>Country</th></tr>\n",
       "\t<tr><th scope=col>&lt;chr&gt;</th><th scope=col>&lt;chr&gt;</th><th scope=col>&lt;chr&gt;</th><th scope=col>&lt;dbl&gt;</th><th scope=col>&lt;dttm&gt;</th><th scope=col>&lt;dbl&gt;</th><th scope=col>&lt;dbl&gt;</th><th scope=col>&lt;chr&gt;</th></tr>\n",
       "</thead>\n",
       "<tbody>\n",
       "\t<tr><td>536365</td><td>85123A</td><td>WHITE HANGING HEART T-LIGHT HOLDER </td><td>6</td><td>2010-12-01 08:26:00</td><td>2.55</td><td>17850</td><td>United Kingdom</td></tr>\n",
       "\t<tr><td>536365</td><td>71053 </td><td>WHITE METAL LANTERN                </td><td>6</td><td>2010-12-01 08:26:00</td><td>3.39</td><td>17850</td><td>United Kingdom</td></tr>\n",
       "\t<tr><td>536365</td><td>84406B</td><td>CREAM CUPID HEARTS COAT HANGER     </td><td>8</td><td>2010-12-01 08:26:00</td><td>2.75</td><td>17850</td><td>United Kingdom</td></tr>\n",
       "\t<tr><td>536365</td><td>84029G</td><td>KNITTED UNION FLAG HOT WATER BOTTLE</td><td>6</td><td>2010-12-01 08:26:00</td><td>3.39</td><td>17850</td><td>United Kingdom</td></tr>\n",
       "\t<tr><td>536365</td><td>84029E</td><td>RED WOOLLY HOTTIE WHITE HEART.     </td><td>6</td><td>2010-12-01 08:26:00</td><td>3.39</td><td>17850</td><td>United Kingdom</td></tr>\n",
       "\t<tr><td>536365</td><td>22752 </td><td>SET 7 BABUSHKA NESTING BOXES       </td><td>2</td><td>2010-12-01 08:26:00</td><td>7.65</td><td>17850</td><td>United Kingdom</td></tr>\n",
       "</tbody>\n",
       "</table>\n"
      ],
      "text/latex": [
       "A tibble: 6 × 8\n",
       "\\begin{tabular}{llllllll}\n",
       " InvoiceNo & StockCode & Description & Quantity & InvoiceDate & UnitPrice & CustomerID & Country\\\\\n",
       " <chr> & <chr> & <chr> & <dbl> & <dttm> & <dbl> & <dbl> & <chr>\\\\\n",
       "\\hline\n",
       "\t 536365 & 85123A & WHITE HANGING HEART T-LIGHT HOLDER  & 6 & 2010-12-01 08:26:00 & 2.55 & 17850 & United Kingdom\\\\\n",
       "\t 536365 & 71053  & WHITE METAL LANTERN                 & 6 & 2010-12-01 08:26:00 & 3.39 & 17850 & United Kingdom\\\\\n",
       "\t 536365 & 84406B & CREAM CUPID HEARTS COAT HANGER      & 8 & 2010-12-01 08:26:00 & 2.75 & 17850 & United Kingdom\\\\\n",
       "\t 536365 & 84029G & KNITTED UNION FLAG HOT WATER BOTTLE & 6 & 2010-12-01 08:26:00 & 3.39 & 17850 & United Kingdom\\\\\n",
       "\t 536365 & 84029E & RED WOOLLY HOTTIE WHITE HEART.      & 6 & 2010-12-01 08:26:00 & 3.39 & 17850 & United Kingdom\\\\\n",
       "\t 536365 & 22752  & SET 7 BABUSHKA NESTING BOXES        & 2 & 2010-12-01 08:26:00 & 7.65 & 17850 & United Kingdom\\\\\n",
       "\\end{tabular}\n"
      ],
      "text/markdown": [
       "\n",
       "A tibble: 6 × 8\n",
       "\n",
       "| InvoiceNo &lt;chr&gt; | StockCode &lt;chr&gt; | Description &lt;chr&gt; | Quantity &lt;dbl&gt; | InvoiceDate &lt;dttm&gt; | UnitPrice &lt;dbl&gt; | CustomerID &lt;dbl&gt; | Country &lt;chr&gt; |\n",
       "|---|---|---|---|---|---|---|---|\n",
       "| 536365 | 85123A | WHITE HANGING HEART T-LIGHT HOLDER  | 6 | 2010-12-01 08:26:00 | 2.55 | 17850 | United Kingdom |\n",
       "| 536365 | 71053  | WHITE METAL LANTERN                 | 6 | 2010-12-01 08:26:00 | 3.39 | 17850 | United Kingdom |\n",
       "| 536365 | 84406B | CREAM CUPID HEARTS COAT HANGER      | 8 | 2010-12-01 08:26:00 | 2.75 | 17850 | United Kingdom |\n",
       "| 536365 | 84029G | KNITTED UNION FLAG HOT WATER BOTTLE | 6 | 2010-12-01 08:26:00 | 3.39 | 17850 | United Kingdom |\n",
       "| 536365 | 84029E | RED WOOLLY HOTTIE WHITE HEART.      | 6 | 2010-12-01 08:26:00 | 3.39 | 17850 | United Kingdom |\n",
       "| 536365 | 22752  | SET 7 BABUSHKA NESTING BOXES        | 2 | 2010-12-01 08:26:00 | 7.65 | 17850 | United Kingdom |\n",
       "\n"
      ],
      "text/plain": [
       "  InvoiceNo StockCode Description                         Quantity\n",
       "1 536365    85123A    WHITE HANGING HEART T-LIGHT HOLDER  6       \n",
       "2 536365    71053     WHITE METAL LANTERN                 6       \n",
       "3 536365    84406B    CREAM CUPID HEARTS COAT HANGER      8       \n",
       "4 536365    84029G    KNITTED UNION FLAG HOT WATER BOTTLE 6       \n",
       "5 536365    84029E    RED WOOLLY HOTTIE WHITE HEART.      6       \n",
       "6 536365    22752     SET 7 BABUSHKA NESTING BOXES        2       \n",
       "  InvoiceDate         UnitPrice CustomerID Country       \n",
       "1 2010-12-01 08:26:00 2.55      17850      United Kingdom\n",
       "2 2010-12-01 08:26:00 3.39      17850      United Kingdom\n",
       "3 2010-12-01 08:26:00 2.75      17850      United Kingdom\n",
       "4 2010-12-01 08:26:00 3.39      17850      United Kingdom\n",
       "5 2010-12-01 08:26:00 3.39      17850      United Kingdom\n",
       "6 2010-12-01 08:26:00 7.65      17850      United Kingdom"
      ]
     },
     "metadata": {},
     "output_type": "display_data"
    },
    {
     "name": "stdout",
     "output_type": "stream",
     "text": [
      "tibble [541,909 × 8] (S3: tbl_df/tbl/data.frame)\n",
      " $ InvoiceNo  : chr [1:541909] \"536365\" \"536365\" \"536365\" \"536365\" ...\n",
      " $ StockCode  : chr [1:541909] \"85123A\" \"71053\" \"84406B\" \"84029G\" ...\n",
      " $ Description: chr [1:541909] \"WHITE HANGING HEART T-LIGHT HOLDER\" \"WHITE METAL LANTERN\" \"CREAM CUPID HEARTS COAT HANGER\" \"KNITTED UNION FLAG HOT WATER BOTTLE\" ...\n",
      " $ Quantity   : num [1:541909] 6 6 8 6 6 2 6 6 6 32 ...\n",
      " $ InvoiceDate: POSIXct[1:541909], format: \"2010-12-01 08:26:00\" \"2010-12-01 08:26:00\" ...\n",
      " $ UnitPrice  : num [1:541909] 2.55 3.39 2.75 3.39 3.39 7.65 4.25 1.85 1.85 1.69 ...\n",
      " $ CustomerID : num [1:541909] 17850 17850 17850 17850 17850 ...\n",
      " $ Country    : chr [1:541909] \"United Kingdom\" \"United Kingdom\" \"United Kingdom\" \"United Kingdom\" ...\n"
     ]
    }
   ],
   "source": [
    "# Load the Excel file\n",
    "data <- read_excel(\"Online Retail.xlsx\")\n",
    "\n",
    "# View the first few rows of the dataset\n",
    "head(data)\n",
    "\n",
    "# View dataset structure\n",
    "str(data)\n"
   ]
  },
  {
   "cell_type": "code",
   "execution_count": 5,
   "id": "4e7e982b-f70e-4a8f-bf16-6d444083fca2",
   "metadata": {},
   "outputs": [],
   "source": [
    "# Load libraries\n",
    "library(tidyverse)\n",
    "library(janitor)\n",
    "library(lubridate)"
   ]
  },
  {
   "cell_type": "code",
   "execution_count": 6,
   "id": "1f441465-6600-4dc2-8cb0-1da71b35c350",
   "metadata": {},
   "outputs": [],
   "source": [
    "data <- clean_names(data)"
   ]
  },
  {
   "cell_type": "code",
   "execution_count": 11,
   "id": "3553795a-7097-4422-8696-e12d2f803647",
   "metadata": {},
   "outputs": [
    {
     "data": {
      "text/html": [
       "<table class=\"dataframe\">\n",
       "<caption>A tibble: 6 × 9</caption>\n",
       "<thead>\n",
       "\t<tr><th scope=col>invoice_no</th><th scope=col>stock_code</th><th scope=col>description</th><th scope=col>quantity</th><th scope=col>invoice_date</th><th scope=col>unit_price</th><th scope=col>customer_id</th><th scope=col>country</th><th scope=col>total_revenue</th></tr>\n",
       "\t<tr><th scope=col>&lt;chr&gt;</th><th scope=col>&lt;chr&gt;</th><th scope=col>&lt;chr&gt;</th><th scope=col>&lt;dbl&gt;</th><th scope=col>&lt;dttm&gt;</th><th scope=col>&lt;dbl&gt;</th><th scope=col>&lt;dbl&gt;</th><th scope=col>&lt;chr&gt;</th><th scope=col>&lt;dbl&gt;</th></tr>\n",
       "</thead>\n",
       "<tbody>\n",
       "\t<tr><td>536365</td><td>85123A</td><td>WHITE HANGING HEART T-LIGHT HOLDER </td><td>6</td><td>2010-12-01 08:26:00</td><td>2.55</td><td>17850</td><td>United Kingdom</td><td>15.30</td></tr>\n",
       "\t<tr><td>536365</td><td>71053 </td><td>WHITE METAL LANTERN                </td><td>6</td><td>2010-12-01 08:26:00</td><td>3.39</td><td>17850</td><td>United Kingdom</td><td>20.34</td></tr>\n",
       "\t<tr><td>536365</td><td>84406B</td><td>CREAM CUPID HEARTS COAT HANGER     </td><td>8</td><td>2010-12-01 08:26:00</td><td>2.75</td><td>17850</td><td>United Kingdom</td><td>22.00</td></tr>\n",
       "\t<tr><td>536365</td><td>84029G</td><td>KNITTED UNION FLAG HOT WATER BOTTLE</td><td>6</td><td>2010-12-01 08:26:00</td><td>3.39</td><td>17850</td><td>United Kingdom</td><td>20.34</td></tr>\n",
       "\t<tr><td>536365</td><td>84029E</td><td>RED WOOLLY HOTTIE WHITE HEART.     </td><td>6</td><td>2010-12-01 08:26:00</td><td>3.39</td><td>17850</td><td>United Kingdom</td><td>20.34</td></tr>\n",
       "\t<tr><td>536365</td><td>22752 </td><td>SET 7 BABUSHKA NESTING BOXES       </td><td>2</td><td>2010-12-01 08:26:00</td><td>7.65</td><td>17850</td><td>United Kingdom</td><td>15.30</td></tr>\n",
       "</tbody>\n",
       "</table>\n"
      ],
      "text/latex": [
       "A tibble: 6 × 9\n",
       "\\begin{tabular}{lllllllll}\n",
       " invoice\\_no & stock\\_code & description & quantity & invoice\\_date & unit\\_price & customer\\_id & country & total\\_revenue\\\\\n",
       " <chr> & <chr> & <chr> & <dbl> & <dttm> & <dbl> & <dbl> & <chr> & <dbl>\\\\\n",
       "\\hline\n",
       "\t 536365 & 85123A & WHITE HANGING HEART T-LIGHT HOLDER  & 6 & 2010-12-01 08:26:00 & 2.55 & 17850 & United Kingdom & 15.30\\\\\n",
       "\t 536365 & 71053  & WHITE METAL LANTERN                 & 6 & 2010-12-01 08:26:00 & 3.39 & 17850 & United Kingdom & 20.34\\\\\n",
       "\t 536365 & 84406B & CREAM CUPID HEARTS COAT HANGER      & 8 & 2010-12-01 08:26:00 & 2.75 & 17850 & United Kingdom & 22.00\\\\\n",
       "\t 536365 & 84029G & KNITTED UNION FLAG HOT WATER BOTTLE & 6 & 2010-12-01 08:26:00 & 3.39 & 17850 & United Kingdom & 20.34\\\\\n",
       "\t 536365 & 84029E & RED WOOLLY HOTTIE WHITE HEART.      & 6 & 2010-12-01 08:26:00 & 3.39 & 17850 & United Kingdom & 20.34\\\\\n",
       "\t 536365 & 22752  & SET 7 BABUSHKA NESTING BOXES        & 2 & 2010-12-01 08:26:00 & 7.65 & 17850 & United Kingdom & 15.30\\\\\n",
       "\\end{tabular}\n"
      ],
      "text/markdown": [
       "\n",
       "A tibble: 6 × 9\n",
       "\n",
       "| invoice_no &lt;chr&gt; | stock_code &lt;chr&gt; | description &lt;chr&gt; | quantity &lt;dbl&gt; | invoice_date &lt;dttm&gt; | unit_price &lt;dbl&gt; | customer_id &lt;dbl&gt; | country &lt;chr&gt; | total_revenue &lt;dbl&gt; |\n",
       "|---|---|---|---|---|---|---|---|---|\n",
       "| 536365 | 85123A | WHITE HANGING HEART T-LIGHT HOLDER  | 6 | 2010-12-01 08:26:00 | 2.55 | 17850 | United Kingdom | 15.30 |\n",
       "| 536365 | 71053  | WHITE METAL LANTERN                 | 6 | 2010-12-01 08:26:00 | 3.39 | 17850 | United Kingdom | 20.34 |\n",
       "| 536365 | 84406B | CREAM CUPID HEARTS COAT HANGER      | 8 | 2010-12-01 08:26:00 | 2.75 | 17850 | United Kingdom | 22.00 |\n",
       "| 536365 | 84029G | KNITTED UNION FLAG HOT WATER BOTTLE | 6 | 2010-12-01 08:26:00 | 3.39 | 17850 | United Kingdom | 20.34 |\n",
       "| 536365 | 84029E | RED WOOLLY HOTTIE WHITE HEART.      | 6 | 2010-12-01 08:26:00 | 3.39 | 17850 | United Kingdom | 20.34 |\n",
       "| 536365 | 22752  | SET 7 BABUSHKA NESTING BOXES        | 2 | 2010-12-01 08:26:00 | 7.65 | 17850 | United Kingdom | 15.30 |\n",
       "\n"
      ],
      "text/plain": [
       "  invoice_no stock_code description                         quantity\n",
       "1 536365     85123A     WHITE HANGING HEART T-LIGHT HOLDER  6       \n",
       "2 536365     71053      WHITE METAL LANTERN                 6       \n",
       "3 536365     84406B     CREAM CUPID HEARTS COAT HANGER      8       \n",
       "4 536365     84029G     KNITTED UNION FLAG HOT WATER BOTTLE 6       \n",
       "5 536365     84029E     RED WOOLLY HOTTIE WHITE HEART.      6       \n",
       "6 536365     22752      SET 7 BABUSHKA NESTING BOXES        2       \n",
       "  invoice_date        unit_price customer_id country        total_revenue\n",
       "1 2010-12-01 08:26:00 2.55       17850       United Kingdom 15.30        \n",
       "2 2010-12-01 08:26:00 3.39       17850       United Kingdom 20.34        \n",
       "3 2010-12-01 08:26:00 2.75       17850       United Kingdom 22.00        \n",
       "4 2010-12-01 08:26:00 3.39       17850       United Kingdom 20.34        \n",
       "5 2010-12-01 08:26:00 3.39       17850       United Kingdom 20.34        \n",
       "6 2010-12-01 08:26:00 7.65       17850       United Kingdom 15.30        "
      ]
     },
     "metadata": {},
     "output_type": "display_data"
    }
   ],
   "source": [
    "head(data)"
   ]
  },
  {
   "cell_type": "code",
   "execution_count": 8,
   "id": "0007099d-5da3-48f0-abd8-a600ff7b3722",
   "metadata": {},
   "outputs": [],
   "source": [
    "data <- data %>%\n",
    "  drop_na(customer_id)"
   ]
  },
  {
   "cell_type": "code",
   "execution_count": 10,
   "id": "2a399fcc-bc73-40a5-8fdf-19fa2fc9c57b",
   "metadata": {},
   "outputs": [],
   "source": [
    "# Create a new column for total revenue (Quantity * UnitPrice)\n",
    "data <- data %>%\n",
    "  mutate(total_revenue = quantity * unit_price)"
   ]
  },
  {
   "cell_type": "code",
   "execution_count": 12,
   "id": "11fd0cf6-a74c-40ad-9555-3094ff189075",
   "metadata": {},
   "outputs": [],
   "source": [
    "# Ensure InvoiceDate is in POSIXct format for time-based analysis\n",
    "data <- data %>%\n",
    "  mutate(invoice_date = as_datetime(invoice_date))"
   ]
  },
  {
   "cell_type": "code",
   "execution_count": 14,
   "id": "e5d0469e-ff3b-4dc4-87a4-88107f5164e9",
   "metadata": {},
   "outputs": [],
   "source": [
    "# Save the cleaned dataset as a CSV file for further analysis\n",
    "write_csv(data, \"cleaned_data.csv\")\n"
   ]
  },
  {
   "cell_type": "code",
   "execution_count": 15,
   "id": "cc531d7a-4c9b-410e-9b5d-98e5632572b0",
   "metadata": {},
   "outputs": [
    {
     "name": "stdout",
     "output_type": "stream",
     "text": [
      "\n",
      "Summary of Cleaned Data:\n",
      "  invoice_no         stock_code        description           quantity        \n",
      " Length:406829      Length:406829      Length:406829      Min.   :-80995.00  \n",
      " Class :character   Class :character   Class :character   1st Qu.:     2.00  \n",
      " Mode  :character   Mode  :character   Mode  :character   Median :     5.00  \n",
      "                                                          Mean   :    12.06  \n",
      "                                                          3rd Qu.:    12.00  \n",
      "                                                          Max.   : 80995.00  \n",
      "  invoice_date                      unit_price        customer_id   \n",
      " Min.   :2010-12-01 08:26:00.00   Min.   :    0.00   Min.   :12346  \n",
      " 1st Qu.:2011-04-06 15:02:00.00   1st Qu.:    1.25   1st Qu.:13953  \n",
      " Median :2011-07-31 11:48:00.00   Median :    1.95   Median :15152  \n",
      " Mean   :2011-07-10 16:30:57.88   Mean   :    3.46   Mean   :15288  \n",
      " 3rd Qu.:2011-10-20 13:06:00.00   3rd Qu.:    3.75   3rd Qu.:16791  \n",
      " Max.   :2011-12-09 12:50:00.00   Max.   :38970.00   Max.   :18287  \n",
      "   country          total_revenue      \n",
      " Length:406829      Min.   :-168469.6  \n",
      " Class :character   1st Qu.:      4.2  \n",
      " Mode  :character   Median :     11.1  \n",
      "                    Mean   :     20.4  \n",
      "                    3rd Qu.:     19.5  \n",
      "                    Max.   : 168469.6  \n"
     ]
    }
   ],
   "source": [
    "# Summary of Cleaned Data\n",
    "cat(\"\\nSummary of Cleaned Data:\\n\")\n",
    "print(summary(data))"
   ]
  },
  {
   "cell_type": "code",
   "execution_count": 16,
   "id": "a6791e24-5ac0-4f09-a52e-cd2b5886eac4",
   "metadata": {},
   "outputs": [
    {
     "name": "stdout",
     "output_type": "stream",
     "text": [
      "\n",
      "Summary After Handling Outliers:\n",
      "  invoice_no         stock_code        description           quantity     \n",
      " Length:397748      Length:397748      Length:397748      Min.   :  1.00  \n",
      " Class :character   Class :character   Class :character   1st Qu.:  2.00  \n",
      " Mode  :character   Mode  :character   Mode  :character   Median :  6.00  \n",
      "                                                          Mean   : 12.15  \n",
      "                                                          3rd Qu.: 12.00  \n",
      "                                                          Max.   :992.00  \n",
      "  invoice_date                      unit_price       customer_id   \n",
      " Min.   :2010-12-01 08:26:00.00   Min.   :  0.001   Min.   :12347  \n",
      " 1st Qu.:2011-04-07 11:12:00.00   1st Qu.:  1.250   1st Qu.:13969  \n",
      " Median :2011-07-31 14:39:00.00   Median :  1.950   Median :15159  \n",
      " Mean   :2011-07-10 23:53:46.24   Mean   :  2.990   Mean   :15294  \n",
      " 3rd Qu.:2011-10-20 14:33:00.00   3rd Qu.:  3.750   3rd Qu.:16795  \n",
      " Max.   :2011-12-09 12:50:00.00   Max.   :908.160   Max.   :18287  \n",
      "   country          total_revenue     \n",
      " Length:397748      Min.   :    0.00  \n",
      " Class :character   1st Qu.:    4.68  \n",
      " Mode  :character   Median :   11.80  \n",
      "                    Mean   :   21.25  \n",
      "                    3rd Qu.:   19.80  \n",
      "                    Max.   :38970.00  \n"
     ]
    }
   ],
   "source": [
    "# Remove extreme outliers in Quantity and UnitPrice\n",
    "data <- data %>%\n",
    "  filter(quantity > 0, quantity < 1000,  # Cap quantity at a reasonable limit\n",
    "         unit_price > 0, unit_price < 1000)  # Cap unit price at a reasonable limit\n",
    "\n",
    "# Remove transactions with negative total revenue\n",
    "data <- data %>%\n",
    "  filter(total_revenue >= 0)\n",
    "\n",
    "# Summary after handling outliers\n",
    "cat(\"\\nSummary After Handling Outliers:\\n\")\n",
    "print(summary(data))\n"
   ]
  },
  {
   "cell_type": "code",
   "execution_count": 23,
   "id": "3fe88fc8-924d-4579-a4a3-d965bbfabeda",
   "metadata": {},
   "outputs": [
    {
     "data": {
      "text/html": [
       "'C'"
      ],
      "text/latex": [
       "'C'"
      ],
      "text/markdown": [
       "'C'"
      ],
      "text/plain": [
       "[1] \"C\""
      ]
     },
     "metadata": {},
     "output_type": "display_data"
    },
    {
     "data": {
      "image/png": "[encoded data removed]",
      "text/plain": [
       "plot without title"
      ]
     },
     "metadata": {
      "image/png": {
       "height": 420,
       "width": 420
      }
     },
     "output_type": "display_data"
    }
   ],
   "source": [
    "# Ensure locale is set to English\n",
    "Sys.setlocale(\"LC_TIME\", \"C\")\n",
    "\n",
    "# Plot Monthly Revenue Trends\n",
    "ggplot(monthly_revenue, aes(x = month, y = total_revenue)) +\n",
    "  geom_line(color = \"blue\", size = 1) +  # Reduce line thickness\n",
    "  geom_point(color = \"red\", size = 2) +  # Add red points for clarity\n",
    "  scale_y_continuous(labels = scales::comma) +  # Format Y-axis with commas\n",
    "  labs(title = \"Monthly Revenue Trends\",\n",
    "       x = \"Month\",\n",
    "       y = \"Total Revenue\") +\n",
    "  theme_minimal() +  # Cleaner theme\n",
    "  theme(axis.text.x = element_text(angle = 45, hjust = 1))  # Rotate X-axis labels\n",
    "\n"
   ]
  },
  {
   "cell_type": "code",
   "execution_count": 24,
   "id": "8aa0bdd2-f116-4c57-9a62-710d6a1f83a2",
   "metadata": {},
   "outputs": [
    {
     "data": {
      "image/png": "[encoded data removed]",
      "text/plain": [
       "plot without title"
      ]
     },
     "metadata": {
      "image/png": {
       "height": 420,
       "width": 420
      }
     },
     "output_type": "display_data"
    }
   ],
   "source": [
    "library(ggplot2)\n",
    "library(scales)  # For formatting Y-axis labels\n",
    "library(stringr) # For shortening product descriptions\n",
    "\n",
    "# Top 10 products by total revenue\n",
    "top_products <- data %>%\n",
    "  group_by(description) %>%\n",
    "  summarize(total_revenue = sum(total_revenue)) %>%\n",
    "  arrange(desc(total_revenue)) %>%\n",
    "  slice_head(n = 10) %>%\n",
    "  mutate(short_description = str_trunc(description, 30))  # Shorten descriptions\n",
    "\n",
    "# Plot top products\n",
    "ggplot(top_products, aes(x = reorder(short_description, total_revenue), y = total_revenue)) +\n",
    "  geom_bar(stat = \"identity\", aes(fill = total_revenue), show.legend = FALSE) +\n",
    "  geom_text(aes(label = scales::comma(total_revenue)), \n",
    "            hjust = -0.1, size = 3.5, color = \"black\") +  # Add data labels\n",
    "  scale_fill_gradient(low = \"skyblue\", high = \"blue\") +  # Gradient fill\n",
    "  scale_y_continuous(labels = scales::comma) +  # Format Y-axis with commas\n",
    "  coord_flip() +  # Flip for horizontal bars\n",
    "  labs(title = \"Top 10 Products by Total Revenue\",\n",
    "       x = \"Product Description\",\n",
    "       y = \"Total Revenue\") +\n",
    "  theme_minimal() +\n",
    "  theme(plot.title = element_text(hjust = 0.5, face = \"bold\"),  # Centered and bold title\n",
    "        axis.text.y = element_text(size = 9))  # Adjust Y-axis text size\n",
    "\n"
   ]
  },
  {
   "cell_type": "code",
   "execution_count": 20,
   "id": "aab39534-e307-4c50-86f0-388467fb37a7",
   "metadata": {},
   "outputs": [
    {
     "data": {
      "image/png": "[encoded data removed]",
      "text/plain": [
       "plot without title"
      ]
     },
     "metadata": {
      "image/png": {
       "height": 420,
       "width": 420
      }
     },
     "output_type": "display_data"
    }
   ],
   "source": [
    "# Total revenue by country\n",
    "country_revenue <- data %>%\n",
    "  group_by(country) %>%\n",
    "  summarize(total_revenue = sum(total_revenue)) %>%\n",
    "  arrange(desc(total_revenue))\n",
    "\n",
    "# Plot revenue by country\n",
    "ggplot(country_revenue[1:10,], aes(x = reorder(country, total_revenue), y = total_revenue)) +\n",
    "  geom_bar(stat = \"identity\", fill = \"lightgreen\") +\n",
    "  coord_flip() +\n",
    "  labs(title = \"Top 10 Countries by Revenue\", x = \"Country\", y = \"Total Revenue\") +\n",
    "  theme_minimal()\n"
   ]
  },
  {
   "cell_type": "code",
   "execution_count": 26,
   "id": "43531ea8-d564-4f92-95a9-b0be8907fe0f",
   "metadata": {},
   "outputs": [
    {
     "data": {
      "image/png": "[encoded data removed]",
      "text/plain": [
       "plot without title"
      ]
     },
     "metadata": {
      "image/png": {
       "height": 420,
       "width": 420
      }
     },
     "output_type": "display_data"
    }
   ],
   "source": [
    "# RFM Analysis\n",
    "# Ensure invoice_date is a Date object\n",
    "rfm_data <- data %>%\n",
    "  mutate(invoice_date = as.Date(invoice_date)) %>%  # Convert to Date\n",
    "  group_by(customer_id) %>%\n",
    "  summarize(\n",
    "    recency = as.numeric(Sys.Date() - max(invoice_date)),  # Days since last purchase\n",
    "    frequency = n_distinct(invoice_no),  # Unique invoices\n",
    "    monetary = sum(total_revenue)  # Total revenue\n",
    "  )\n",
    "\n",
    "# Plot Distribution of RFM Scores\n",
    "library(ggplot2)\n",
    "\n",
    "# Plot Recency\n",
    "# Recency Histogram with appropriate binwidth\n",
    "ggplot(rfm_data, aes(x = recency)) +\n",
    "  geom_histogram(binwidth = 10, fill = \"skyblue\", color = \"black\") +  # Set binwidth to 10\n",
    "  labs(title = \"Distribution of Recency\", x = \"Days Since Last Purchase\", y = \"Count\") +\n",
    "  theme_minimal()\n"
   ]
  },
  {
   "cell_type": "code",
   "execution_count": 27,
   "id": "b7929f22-57e9-442c-b2f0-5109de7f641f",
   "metadata": {},
   "outputs": [
    {
     "data": {
      "image/png": "[encoded data removed]",
      "text/plain": [
       "plot without title"
      ]
     },
     "metadata": {
      "image/png": {
       "height": 420,
       "width": 420
      }
     },
     "output_type": "display_data"
    }
   ],
   "source": [
    "# Top Products by Quantity Sold\n",
    "top_selling_products <- data %>%\n",
    "  group_by(description) %>%\n",
    "  summarize(total_quantity = sum(quantity)) %>%\n",
    "  arrange(desc(total_quantity)) %>%\n",
    "  slice_head(n = 10)\n",
    "\n",
    "# Plot Top Selling Products\n",
    "ggplot(top_selling_products, aes(x = reorder(description, total_quantity), y = total_quantity)) +\n",
    "  geom_bar(stat = \"identity\", fill = \"lightblue\") +\n",
    "  coord_flip() +\n",
    "  labs(title = \"Top 10 Products by Quantity Sold\", x = \"Product Description\", y = \"Total Quantity\") +\n",
    "  theme_minimal()\n"
   ]
  },
  {
   "cell_type": "code",
   "execution_count": 28,
   "id": "fb286e68-feef-42f1-b79d-a7ca8decad09",
   "metadata": {},
   "outputs": [
    {
     "data": {
      "image/png": "[encoded data removed]",
      "text/plain": [
       "plot without title"
      ]
     },
     "metadata": {
      "image/png": {
       "height": 420,
       "width": 420
      }
     },
     "output_type": "display_data"
    }
   ],
   "source": [
    "# Add Day of Week and Hour Columns\n",
    "data <- data %>%\n",
    "  mutate(day_of_week = weekdays(invoice_date),\n",
    "         hour_of_day = hour(invoice_date))\n",
    "\n",
    "# Sales by Hour of Day\n",
    "hourly_sales <- data %>%\n",
    "  group_by(hour_of_day) %>%\n",
    "  summarize(total_revenue = sum(total_revenue))\n",
    "\n",
    "# Plot Hourly Sales Trends\n",
    "ggplot(hourly_sales, aes(x = hour_of_day, y = total_revenue)) +\n",
    "  geom_line(color = \"blue\", size = 1.2) +\n",
    "  labs(title = \"Sales Trends by Hour of Day\", x = \"Hour of Day\", y = \"Total Revenue\") +\n",
    "  theme_minimal()\n"
   ]
  },
  {
   "cell_type": "code",
   "execution_count": 30,
   "id": "41b30f11-2df2-4629-a14e-9a30d595d068",
   "metadata": {},
   "outputs": [
    {
     "name": "stderr",
     "output_type": "stream",
     "text": [
      "Installing package into 'C:/Users/yasir/AppData/Local/R/win-library/4.4'\n",
      "(as 'lib' is unspecified)\n",
      "\n"
     ]
    },
    {
     "name": "stdout",
     "output_type": "stream",
     "text": [
      "package 'maps' successfully unpacked and MD5 sums checked\n",
      "\n",
      "The downloaded binary packages are in\n",
      "\tC:\\Users\\yasir\\AppData\\Local\\Temp\\Rtmpyi9yhW\\downloaded_packages\n"
     ]
    }
   ],
   "source": [
    "install.packages(\"maps\")"
   ]
  },
  {
   "cell_type": "code",
   "execution_count": 31,
   "id": "3fad6824-05ae-4aba-bb7a-3e9c63b1545a",
   "metadata": {},
   "outputs": [
    {
     "name": "stderr",
     "output_type": "stream",
     "text": [
      "\n",
      "Attaching package: 'maps'\n",
      "\n",
      "\n",
      "The following object is masked from 'package:purrr':\n",
      "\n",
      "    map\n",
      "\n",
      "\n"
     ]
    },
    {
     "data": {
      "image/png": "[encoded data removed]",
      "text/plain": [
       "plot without title"
      ]
     },
     "metadata": {
      "image/png": {
       "height": 420,
       "width": 420
      }
     },
     "output_type": "display_data"
    }
   ],
   "source": [
    "# Install and load necessary libraries\n",
    "library(ggplot2)\n",
    "library(maps)\n",
    "library(dplyr)\n",
    "\n",
    "# Summarize revenue by country\n",
    "country_revenue <- data %>%\n",
    "  group_by(country) %>%\n",
    "  summarize(total_revenue = sum(total_revenue))\n",
    "\n",
    "# Load world map data\n",
    "world_map <- map_data(\"world\")\n",
    "\n",
    "# Merge revenue data with map data\n",
    "map_data <- left_join(world_map, country_revenue, by = c(\"region\" = \"country\"))\n",
    "\n",
    "# Plot the heatmap\n",
    "ggplot(map_data, aes(x = long, y = lat, group = group, fill = total_revenue)) +\n",
    "  geom_polygon(color = \"white\") +\n",
    "  scale_fill_continuous(low = \"lightblue\", high = \"darkblue\", na.value = \"gray90\", name = \"Revenue\") +\n",
    "  labs(title = \"Revenue Distribution by Country\") +\n",
    "  theme_minimal()\n"
   ]
  },
  {
   "cell_type": "code",
   "execution_count": null,
   "id": "82d09662-ff0c-47c9-9dd1-26362770a12a",
   "metadata": {},
   "outputs": [],
   "source": []
  }
 ],
 "metadata": {
  "kernelspec": {
   "display_name": "R",
   "language": "R",
   "name": "ir"
  },
  "language_info": {
   "codemirror_mode": "r",
   "file_extension": ".r",
   "mimetype": "text/x-r-source",
   "name": "R",
   "pygments_lexer": "r",
   "version": "4.4.2"
  }
 },
 "nbformat": 4,
 "nbformat_minor": 5
}
